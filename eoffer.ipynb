{
 "cells": [
  {
   "cell_type": "code",
   "execution_count": 188,
   "metadata": {},
   "outputs": [
    {
     "name": "stdout",
     "output_type": "stream",
     "text": [
      "\n",
      "领导早上好[Sun][Sun][Sun][Sun]\n",
      "世纪瑞丰矿产资源 今日报盘请查收：\n",
      "\n",
      "1-江阴港：\n",
      "[Coffee]PB粉 船名：鹏锦\n",
      "铁61.37 硅3.70 铝2.49 磷0.100 硫0.020 水9.38\n",
      "\n",
      "2-青岛港 \n",
      "[Coffee]BRPL球团 船名：武士\n",
      "铁63.18,硅3.81,铝3.85,磷0.055,硫0.006,水0.81\n",
      "\n",
      "[Coffee]卡粉  船名：雨果\n",
      "铁64.97,硅2.47,铝1.20,磷0.052,锰0.195,水8.70\n",
      "\n",
      "盘面有波动，请以我公司最终确认为准！顺祝商祺！\n",
      "\n"
     ]
    }
   ],
   "source": [
    "\n",
    "import re\n",
    "def replace_entities(text, entity_mapping):\n",
    "    # Sort entity mapping by length in descending order to handle overlapping matches\n",
    "    sorted_mapping = sorted(entity_mapping, key=len, reverse=True)\n",
    "\n",
    "    # Create a regular expression pattern to match entities at word boundaries\n",
    "    pattern = r\"\\b(\" + \"|\".join(re.escape(entity) for entity in sorted_mapping) + r\")\\b\"\n",
    "\n",
    "    # Replace matching entities in the text using the pattern\n",
    "    replaced_text = re.sub(pattern, lambda match: entity_mapping[match.group()], text)\n",
    "\n",
    "    replaced_text=replaced_text.replace(\":\",\"\")\n",
    "    return replaced_text\n",
    "text = \"\"\"\n",
    "领导早上好[Sun][Sun][Sun][Sun]\n",
    "世纪瑞丰矿产资源 今日报盘请查收：\n",
    "\n",
    "1-江阴港：\n",
    "[Coffee]PB粉 船名：鹏锦\n",
    "铁61.37 硅3.70 铝2.49 磷0.100 硫0.020 水9.38\n",
    "\n",
    "2-青岛港 \n",
    "[Coffee]BRPL球团 船名：武士\n",
    "FE:63.18,SI:3.81,AL:3.85,P:0.055,S:0.006,H2O:0.81\n",
    "\n",
    "[Coffee]卡粉  船名：雨果\n",
    "FE:64.97,SI:2.47,AL:1.20,P:0.052,Mn:0.195,H2O:8.70\n",
    "\n",
    "盘面有波动，请以我公司最终确认为准！顺祝商祺！\n",
    "\"\"\"\n",
    "\n",
    "entity_mapping = {\n",
    "    \"FE\": \"铁\",\n",
    "    \"SI\": \"硅\",\n",
    "    \"AL\": \"铝\",\n",
    "    \"P\": \"磷\",\n",
    "    \"S\": \"硫\",\n",
    "    \"H2O\": \"水\",\n",
    "    \"Mn\": \"锰\"\n",
    "}\n",
    "\n",
    "text = replace_entities(text, entity_mapping)\n",
    "print(text)\n"
   ]
  },
  {
   "cell_type": "code",
   "execution_count": 189,
   "metadata": {},
   "outputs": [],
   "source": [
    "from pyhanlp import HanLP\n",
    "import openpyxl\n",
    "\n",
    "def extract_named_entities(text):\n",
    "\n",
    "\n",
    "    segment = HanLP.newSegment().enableNameRecognize(True)\n",
    "    term_list = segment.seg(text)\n",
    "    named_entities = []\n",
    "    for term in term_list:\n",
    "        if term.nature.toString() == \"nr\"or \"nt\":\n",
    "            named_entities.append(term.word)\n",
    "    return named_entities\n",
    "\n",
    "\n",
    "\n",
    "def extract_data(text, named_entities):\n",
    "    ship_names = []\n",
    "    commodities = []\n",
    "    prices = []\n",
    "\n",
    "    # Find ship names\n",
    "    ship_name_match = re.findall(r\"船名[：:](\\S+)\", text)\n",
    "    if ship_name_match:\n",
    "        ship_names.extend(ship_name_match)\n",
    "\n",
    "    commodities_mapping = {\"铁\": \"FE\", \"硅\": \"SI\", \"铝\": \"AL\", \"磷\": \"P\", \"硫\": \"S\", \"水\": \"H2O\",\"锰\": \"Mn\"}\n",
    "    \n",
    "    # Find commodities and prices\n",
    "    for i in range(len(named_entities)):\n",
    "        entity = named_entities[i]\n",
    "        if entity in commodities_mapping:\n",
    "            commodities.append(commodities_mapping[entity])\n",
    "            # Look for the number after the commodity\n",
    "            if i < len(named_entities) - 1:\n",
    "                next_entity = named_entities[i + 1]\n",
    "                if next_entity.replace('.', '', 1).isdigit():\n",
    "                    prices.append(next_entity)\n",
    "                else:\n",
    "                    prices.append('')\n",
    "    \n",
    "\n",
    "    return ship_names, commodities, prices\n",
    "\n",
    "\n",
    "def save_to_excel(ship_names, commodities, prices, filename):\n",
    "    wb = openpyxl.Workbook()\n",
    "    sheet = wb.active\n",
    "\n",
    "    \n",
    "    sheet['A1'] = \"Ship Name\"\n",
    "    sheet['B1'] = \"Commodity\"\n",
    "    sheet['C1'] = \"Price\"\n",
    "\n",
    "\n",
    "    for i in range(len(commodities)):\n",
    "        if i<6:\n",
    "            sheet.cell(row=i+2, column=1).value = ship_names[0]\n",
    "        elif i>=6 and i<12:\n",
    "            sheet.cell(row=i+2, column=1).value = ship_names[1]\n",
    "        elif i>=12 and i<18:\n",
    "            sheet.cell(row=i+2, column=1).value = ship_names[2]\n",
    "        sheet.cell(row=i+2, column=2).value = commodities[i] if i < len(commodities) else \"\"\n",
    "        sheet.cell(row=i+2, column=3).value = prices[i] if i < len(prices) else \"\"\n",
    "\n",
    "    wb.save(filename)\n",
    "\n"
   ]
  },
  {
   "cell_type": "code",
   "execution_count": 190,
   "metadata": {},
   "outputs": [
    {
     "name": "stdout",
     "output_type": "stream",
     "text": [
      "['\\n', '领导', '早上好', '[', 'Sun', '][', 'Sun', '][', 'Sun', '][', 'Sun', ']', '\\n', '世纪', '瑞丰', '矿产资源', ' ', '今日', '报盘', '请', '查收', '：', '\\n\\n', '1', '-', '江阴', '港', '：', '\\n', '[', 'Coffee', ']', 'PB', '粉', ' ', '船名', '：', '鹏', '锦', '\\n', '铁', '61.37', ' ', '硅', '3.70', ' ', '铝', '2.49', ' ', '磷', '0.100', ' ', '硫', '0.020', ' ', '水', '9.38', '\\n\\n', '2', '-', '青岛港', ' \\n', '[', 'Coffee', ']', 'BRPL', '球团', ' ', '船名', '：', '武士', '\\n', '铁', '63.18', ',', '硅', '3.81', ',', '铝', '3.85', ',', '磷', '0.055', ',', '硫', '0.006', ',', '水', '0.81', '\\n\\n', '[', 'Coffee', ']', '卡', '粉', '  ', '船名', '：', '雨果', '\\n', '铁', '64.97', ',', '硅', '2.47', ',', '铝', '1.20', ',', '磷', '0.052', ',', '锰', '0.195', ',', '水', '8.70', '\\n\\n', '盘面', '有', '波动', '，', '请', '以', '我', '公司', '最终', '确认', '为准', '！', '顺祝', '商', '祺', '！', '\\n']\n",
      "ship_names:  ['鹏锦', '武士', '雨果']\n",
      "commodities:  ['FE', 'SI', 'AL', 'P', 'S', 'H2O', 'FE', 'SI', 'AL', 'P', 'S', 'H2O', 'FE', 'SI', 'AL', 'P', 'Mn', 'H2O']\n",
      "prices:  ['61.37', '3.70', '2.49', '0.100', '0.020', '9.38', '63.18', '3.81', '3.85', '0.055', '0.006', '0.81', '64.97', '2.47', '1.20', '0.052', '0.195', '8.70']\n"
     ]
    }
   ],
   "source": [
    "named_entities = extract_named_entities(text)\n",
    "ship_names, commodities, prices = extract_data(text, named_entities)\n",
    "filename = \"extracted_data.xlsx\"\n",
    "save_to_excel(ship_names, commodities, prices, filename)\n",
    "print(named_entities)\n",
    "print(\"ship_names: \", ship_names)\n",
    "print(\"commodities: \",commodities)\n",
    "print(\"prices: \", prices)"
   ]
  },
  {
   "cell_type": "code",
   "execution_count": null,
   "metadata": {},
   "outputs": [],
   "source": []
  },
  {
   "cell_type": "code",
   "execution_count": null,
   "metadata": {},
   "outputs": [],
   "source": []
  }
 ],
 "metadata": {
  "kernelspec": {
   "display_name": "Python 3.8.17 ('py38')",
   "language": "python",
   "name": "python3"
  },
  "language_info": {
   "codemirror_mode": {
    "name": "ipython",
    "version": 3
   },
   "file_extension": ".py",
   "mimetype": "text/x-python",
   "name": "python",
   "nbconvert_exporter": "python",
   "pygments_lexer": "ipython3",
   "version": "3.8.17"
  },
  "orig_nbformat": 4,
  "vscode": {
   "interpreter": {
    "hash": "774927315202fffbb013339eea2a7ff52255fe17557fe12dfbe170acd1456212"
   }
  }
 },
 "nbformat": 4,
 "nbformat_minor": 2
}
